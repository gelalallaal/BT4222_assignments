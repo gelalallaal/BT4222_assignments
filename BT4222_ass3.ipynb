{
  "nbformat": 4,
  "nbformat_minor": 0,
  "metadata": {
    "colab": {
      "provenance": []
    },
    "kernelspec": {
      "name": "python3",
      "display_name": "Python 3"
    },
    "language_info": {
      "name": "python"
    }
  },
  "cells": [
    {
      "cell_type": "markdown",
      "source": [
        "**Plagiarism Policy**\n",
        "\n",
        "NUS takes a strict view of plagiarism and considers it a serious form of academic dishonesty. Any student found to have engaged in such misconduct will be subjected to disciplinary action by the University. Please refer to the NUS Plagiarism Policy.\n",
        "\n",
        "For assignments in BT4222, using any AI tools to **generate code or to verify your code** is not allowed. Sharing any part of the solution among students is not allowed either. Following the recently concluded plagiarism cases, if assignments were caught with a high degree of similarity, the presumption of guilt is applied when no hard evidence can be provided by the suspect.  "
      ],
      "metadata": {
        "id": "kn6xo2bZuBgJ"
      }
    },
    {
      "cell_type": "markdown",
      "source": [
        "# BT4222 Assignment 3 (10 marks)\n",
        "\n",
        "This assignment consists of 3 main questions.\n",
        "\n",
        "- Question 1: Training a DNN image classifier for Fashion-MNIST data (**3.5 Marks**)\n",
        "- Question 2: Training a CNN image classifier for CIFAR-10 data (**4 Marks**)\n",
        "- Question 3: Ensemble learning for MNIST-784 data (**2.5 Marks**)\n",
        "\n",
        "Submit this .ipynb file to: Canvas > Assignments > Assignment 3 by the deadline of March 13, 2359 (?). You should rename your file with your NUSNET ID, i.e. 'a0123456xx.ipynb'."
      ],
      "metadata": {
        "id": "cD7B_6aUuCv1"
      }
    },
    {
      "cell_type": "markdown",
      "source": [
        "# Question 1: Training an Image Classifier Using Neural Network (3.5 marks)\n",
        "\n",
        "We will be utilising Pytorch to train a neural network on an image classification problem. We will utilise the Fashion-MNIST image dataset. First, let's import Pytorch and matplotlib."
      ],
      "metadata": {
        "id": "rH79qwdTueSw"
      }
    },
    {
      "cell_type": "markdown",
      "source": [
        "## Importing libraries"
      ],
      "metadata": {
        "id": "59bdph9jwf7p"
      }
    },
    {
      "cell_type": "code",
      "source": [
        "import torch\n",
        "import torch.nn as nn\n",
        "import torch.nn.functional as F\n",
        "import torch.optim as optim\n",
        "import torchvision\n",
        "from torchvision import datasets, transforms\n",
        "import matplotlib as mpl\n",
        "import matplotlib.pyplot as plt\n",
        "from torch.utils.data import DataLoader, random_split\n",
        "import numpy as np"
      ],
      "metadata": {
        "id": "R9NB29KVu4_y"
      },
      "execution_count": 26,
      "outputs": []
    },
    {
      "cell_type": "code",
      "source": [
        "torch.__version__"
      ],
      "metadata": {
        "colab": {
          "base_uri": "https://localhost:8080/",
          "height": 35
        },
        "id": "NVYG6elgu9HK",
        "outputId": "f108639e-8482-4c89-bea0-b433d11a2f19"
      },
      "execution_count": 27,
      "outputs": [
        {
          "output_type": "execute_result",
          "data": {
            "text/plain": [
              "'2.2.1+cu121'"
            ],
            "application/vnd.google.colaboratory.intrinsic+json": {
              "type": "string"
            }
          },
          "metadata": {},
          "execution_count": 27
        }
      ]
    },
    {
      "cell_type": "markdown",
      "source": [
        "## Data Loading\n",
        "\n",
        "Pytorch has a number of functions to load popular datasets in `torchvision.datasets`. The following code loads the Fashion MNIST dataset using `torchvision.datasets.FashionMNIST`.\n",
        "- PyTorch's built-in FashionMNIST dataset has 60,000 training images and 10,000 test images of 10 categories of clothing/fashion items.\n",
        "- `torchvision.transforms.Compose` chains multiple transform steps\n",
        "- `torchvision.transforms.ToTensor()` converts a PIL image or NumPy array to a PyTorch tensor. Specifically, it converts image data type to float32, scales pixel intensities to [0,1] range, converts a Height-Width-Channel formatted image to Channel-Height-Width tensor format."
      ],
      "metadata": {
        "id": "xTLwoNjCvBFg"
      }
    },
    {
      "cell_type": "code",
      "source": [
        "transform = torchvision.transforms.Compose([torchvision.transforms.ToTensor()])\n",
        "train_dataset = torchvision.datasets.FashionMNIST('../data', train=True, download=True, transform=transform)\n",
        "test_dataset = torchvision.datasets.FashionMNIST('../data', train=False, transform=transform)"
      ],
      "metadata": {
        "id": "QHyP_7BNvdRf",
        "colab": {
          "base_uri": "https://localhost:8080/"
        },
        "outputId": "4afcb374-f86e-4623-e333-18e4823e0a6d"
      },
      "execution_count": 28,
      "outputs": [
        {
          "output_type": "stream",
          "name": "stdout",
          "text": [
            "Downloading http://fashion-mnist.s3-website.eu-central-1.amazonaws.com/train-images-idx3-ubyte.gz\n",
            "Downloading http://fashion-mnist.s3-website.eu-central-1.amazonaws.com/train-images-idx3-ubyte.gz to ../data/FashionMNIST/raw/train-images-idx3-ubyte.gz\n"
          ]
        },
        {
          "output_type": "stream",
          "name": "stderr",
          "text": [
            "100%|██████████| 26421880/26421880 [00:02<00:00, 10829084.57it/s]\n"
          ]
        },
        {
          "output_type": "stream",
          "name": "stdout",
          "text": [
            "Extracting ../data/FashionMNIST/raw/train-images-idx3-ubyte.gz to ../data/FashionMNIST/raw\n",
            "\n",
            "Downloading http://fashion-mnist.s3-website.eu-central-1.amazonaws.com/train-labels-idx1-ubyte.gz\n",
            "Downloading http://fashion-mnist.s3-website.eu-central-1.amazonaws.com/train-labels-idx1-ubyte.gz to ../data/FashionMNIST/raw/train-labels-idx1-ubyte.gz\n"
          ]
        },
        {
          "output_type": "stream",
          "name": "stderr",
          "text": [
            "100%|██████████| 29515/29515 [00:00<00:00, 199918.74it/s]\n"
          ]
        },
        {
          "output_type": "stream",
          "name": "stdout",
          "text": [
            "Extracting ../data/FashionMNIST/raw/train-labels-idx1-ubyte.gz to ../data/FashionMNIST/raw\n",
            "\n",
            "Downloading http://fashion-mnist.s3-website.eu-central-1.amazonaws.com/t10k-images-idx3-ubyte.gz\n",
            "Downloading http://fashion-mnist.s3-website.eu-central-1.amazonaws.com/t10k-images-idx3-ubyte.gz to ../data/FashionMNIST/raw/t10k-images-idx3-ubyte.gz\n"
          ]
        },
        {
          "output_type": "stream",
          "name": "stderr",
          "text": [
            "100%|██████████| 4422102/4422102 [00:01<00:00, 3625144.09it/s]\n"
          ]
        },
        {
          "output_type": "stream",
          "name": "stdout",
          "text": [
            "Extracting ../data/FashionMNIST/raw/t10k-images-idx3-ubyte.gz to ../data/FashionMNIST/raw\n",
            "\n",
            "Downloading http://fashion-mnist.s3-website.eu-central-1.amazonaws.com/t10k-labels-idx1-ubyte.gz\n",
            "Downloading http://fashion-mnist.s3-website.eu-central-1.amazonaws.com/t10k-labels-idx1-ubyte.gz to ../data/FashionMNIST/raw/t10k-labels-idx1-ubyte.gz\n"
          ]
        },
        {
          "output_type": "stream",
          "name": "stderr",
          "text": [
            "100%|██████████| 5148/5148 [00:00<00:00, 12009052.83it/s]\n"
          ]
        },
        {
          "output_type": "stream",
          "name": "stdout",
          "text": [
            "Extracting ../data/FashionMNIST/raw/t10k-labels-idx1-ubyte.gz to ../data/FashionMNIST/raw\n",
            "\n"
          ]
        }
      ]
    },
    {
      "cell_type": "markdown",
      "source": [
        "In fashion MNIST dataset, every image is represented as a 1× 28 × 28 array rather than a 1D array of size 784. Please check the length of the training dataset and the shape of first training image and its data type."
      ],
      "metadata": {
        "id": "Je4TWLLnwCaX"
      }
    },
    {
      "cell_type": "code",
      "source": [
        "# should return: 60000 torch.Size([1, 28, 28]) torch.float32\n",
        "print(len(train_dataset),train_dataset[0][0].shape, train_dataset[0][0].dtype)"
      ],
      "metadata": {
        "id": "blhSyFkdwHYe",
        "colab": {
          "base_uri": "https://localhost:8080/"
        },
        "outputId": "db689adc-7c53-4e0f-9d59-1028117293a2"
      },
      "execution_count": 29,
      "outputs": [
        {
          "output_type": "stream",
          "name": "stdout",
          "text": [
            "60000 torch.Size([1, 28, 28]) torch.float32\n"
          ]
        }
      ]
    },
    {
      "cell_type": "markdown",
      "source": [
        "## TASK 1.1 (0.1 marks)\n",
        "Please plot an image from training dataset indexed at 20 using Matplotlib's `imshow()` function, with a `'binary'` color map.\n",
        "\n",
        "Hint:\n",
        "1. You need to convert the PyTorch tensor to a NumPy array.\n",
        "2. You need to remove the channel dimension before plotting the image, as `imshow()` expects a 2D array for grayscale images."
      ],
      "metadata": {
        "id": "BVP_jd4UwWcN"
      }
    },
    {
      "cell_type": "code",
      "source": [
        "# Convert PyTorch tensor to NumPy array\n",
        "image = torchvision.transforms.functional.to_pil_image(train_dataset[20][0])\n",
        "image = np.array(image)\n",
        "\n",
        "# Remove channel dimension\n",
        "image = image.squeeze()\n",
        "\n",
        "plt.imshow(image, cmap='binary')"
      ],
      "metadata": {
        "id": "cok8CQvIwaZj",
        "colab": {
          "base_uri": "https://localhost:8080/",
          "height": 448
        },
        "outputId": "41cbb86b-0875-4523-8601-f0cab524f1b7"
      },
      "execution_count": 30,
      "outputs": [
        {
          "output_type": "execute_result",
          "data": {
            "text/plain": [
              "<matplotlib.image.AxesImage at 0x7b9994113c10>"
            ]
          },
          "metadata": {},
          "execution_count": 30
        },
        {
          "output_type": "display_data",
          "data": {
            "text/plain": [
              "<Figure size 640x480 with 1 Axes>"
            ],
            "image/png": "[encoded data removed]"
          },
          "metadata": {}
        }
      ]
    },
    {
      "cell_type": "markdown",
      "source": [
        "## TASK 1.2 (0.1 marks)\n",
        "\n",
        "The labels in target sets are the class IDs (represented as uint8), from 0 to 9, with class name shown in the following table.\n",
        "Please create an array **class_name** containing class names for labels 0 to 9 sequentially. **(0.1 marks)**\n",
        "\n",
        "Please output the class that the image at index 20 of the training set belongs to. **(0.1 marks)**\n",
        "\n",
        "Hint:\n",
        "\n",
        "```\n",
        "Label Description\n",
        "0: T-shirt/top\n",
        "1: Trouser\n",
        "2: Pullover\n",
        "3: Dress\n",
        "4: Coat\n",
        "5: Sandal\n",
        "6: Shirt\n",
        "7: Sneaker\n",
        "8: Bag\n",
        "9: Ankle boot\n",
        "```"
      ],
      "metadata": {
        "id": "vI1cxyCnwnKU"
      }
    },
    {
      "cell_type": "code",
      "source": [
        "class_name = [\n",
        "    \"T-shirt/top\", \"Trouser\", \"Pullover\", \"Dress\", \"Coat\",\n",
        "    \"Sandal\", \"Shirt\", \"Sneaker\", \"Bag\", \"Ankle boot\"\n",
        "]\n",
        "\n",
        "label = train_dataset[20][1]\n",
        "class_label = class_name[label]"
      ],
      "metadata": {
        "id": "pQvM-wqowzYc"
      },
      "execution_count": 31,
      "outputs": []
    },
    {
      "cell_type": "markdown",
      "source": [
        "Please output the class that the image at index 20 of the training set belongs to."
      ],
      "metadata": {
        "id": "Ydejl7s8w4CD"
      }
    },
    {
      "cell_type": "code",
      "source": [
        "# your answer here\n",
        "print(\"Class of the image at index 20:\", class_label)"
      ],
      "metadata": {
        "id": "ZewcWNIzxDHE",
        "colab": {
          "base_uri": "https://localhost:8080/"
        },
        "outputId": "2fdf3f4d-e88c-4551-a383-85eac24941da"
      },
      "execution_count": 32,
      "outputs": [
        {
          "output_type": "stream",
          "name": "stdout",
          "text": [
            "Class of the image at index 20: Dress\n"
          ]
        }
      ]
    },
    {
      "cell_type": "markdown",
      "source": [
        "## TASK 1.3 (0.5 marks)\n",
        "\n",
        "First, the original dataset does not include a separate validation set. It is thus crucial to partition the training set, `train_dataset`, into two subsets: a validation set, `val_dataset`, and a reduced training set, `train_dataset_new`. Specifically, a random selection of 5,000 data points should be allocated to `val_dataset`.\n",
        "\n",
        "Second, verify and confirm the sizes of both `val_dataset` and `train_dataset_new` following the split.\n",
        "\n",
        "Lastly, after splitting the datasets, it's essential to encapsulate `train_dataset_new`, `val_dataset`, and `test_dataset` within `DataLoader` objects, specifically creating `train_loader`, `val_loader`, and `test_loader`, using `torch.utils.data.DataLoader`.\n",
        "\n",
        "Hint:\n",
        "- For `train_loader`, variables `shuffle` should be set as True. Variables `batch_size` for all three dataloader should be set as 128. The validation and testing data should **not** be shuffled.\n",
        "- The `DataLoader` class in PyTorch streamlines the process of batching and shuffling the data, making it easier and more efficient to feed the data into the neural network during training."
      ],
      "metadata": {
        "id": "4MSlDz4HxtWP"
      }
    },
    {
      "cell_type": "code",
      "source": [
        "# partition train_dataset into val_dataset and train_dataset_new\n",
        "N = len(train_dataset)\n",
        "val_size = 5000\n",
        "train_size = N - val_size\n",
        "\n",
        "train_dataset_new, val_dataset = random_split(train_dataset, [train_size, val_size])\n",
        "\n",
        "# verify that the size of train_dataset_new is 55000, and the size of the val_dataset is 5000.\n",
        "print(len(train_dataset_new)==55000)\n",
        "print(len(val_dataset)==5000)\n",
        "\n",
        "# create train_loader, val_loader, test_loader\n",
        "batch_size = 128\n",
        "train_loader = DataLoader(train_dataset_new, batch_size=batch_size, shuffle=True)\n",
        "val_loader = DataLoader(val_dataset, batch_size=batch_size, shuffle=False)\n",
        "test_loader = DataLoader(test_dataset, batch_size=batch_size, shuffle=False)\n"
      ],
      "metadata": {
        "id": "34rGfFqsxsp-",
        "colab": {
          "base_uri": "https://localhost:8080/"
        },
        "outputId": "dc6fe5a0-63d6-46eb-8815-284170527b2d"
      },
      "execution_count": 33,
      "outputs": [
        {
          "output_type": "stream",
          "name": "stdout",
          "text": [
            "True\n",
            "True\n"
          ]
        }
      ]
    },
    {
      "cell_type": "markdown",
      "source": [
        "## TASK 1.4 (0.8 marks)\n",
        "Please build a classification neural network with two hidden layers. Instead of adding the layers one by one, you can pass a list of layers when creating the Sequential model **torch.nn.Sequential**. Here are the definition for each layer:\n",
        "- the first layer is a Flatten layer whose role is to convert each input image into a 1D array. This layer does not have any parameters; it is just there to do some simple preprocessing. You can use `torch.nn.Flatten()`.\n",
        "- Next you add a Dense hidden layer with **300** neurons. It will use the **ReLU** activation function. Each Dense layer manages its own weight matrix, containing all the connection weights between the neurons and their inputs. It also manages a vector of bias terms (one per neuron).\n",
        "- Then you add a second Dense hidden layer with **100** neurons, followed by a batch normalization (BN) layer and a dropout layer with rate of 0.5. Again, the **ReLU** activation function will be applied here.\n",
        "- Lastly, you add a Dense **output** layer with **10** neurons (one per class), using the **softmax** activation function."
      ],
      "metadata": {
        "id": "mBok-sbvyvb7"
      }
    },
    {
      "cell_type": "code",
      "source": [
        "# your answer here\n",
        "model = nn.Sequential(\n",
        "    nn.Flatten(), # Flatten the input images\n",
        "    nn.Linear(28*28, 300),  # First hidden layer with 300 neurons\n",
        "    nn.ReLU(),  # ReLU activation function\n",
        "    nn.Linear(300, 100),  # Second hidden layer with 100 neurons\n",
        "    nn.ReLU(),  # ReLU activation function\n",
        "    nn.BatchNorm1d(100),  # Batch normalization layer\n",
        "    nn.Dropout(0.5),  # Dropout layer with dropout rate of 0.5\n",
        "    nn.Linear(100, 10), # Output layer with 10 neurons for classification\n",
        "    nn.Softmax(dim=1) # Softmax activation function\n",
        ")\n",
        "\n",
        "# Print the model architecture\n",
        "print(model)"
      ],
      "metadata": {
        "id": "IXu7YeSEy22V",
        "colab": {
          "base_uri": "https://localhost:8080/"
        },
        "outputId": "032e1b8e-450c-432a-a183-86df9a48a062"
      },
      "execution_count": 34,
      "outputs": [
        {
          "output_type": "stream",
          "name": "stdout",
          "text": [
            "Sequential(\n",
            "  (0): Flatten(start_dim=1, end_dim=-1)\n",
            "  (1): Linear(in_features=784, out_features=300, bias=True)\n",
            "  (2): ReLU()\n",
            "  (3): Linear(in_features=300, out_features=100, bias=True)\n",
            "  (4): ReLU()\n",
            "  (5): BatchNorm1d(100, eps=1e-05, momentum=0.1, affine=True, track_running_stats=True)\n",
            "  (6): Dropout(p=0.5, inplace=False)\n",
            "  (7): Linear(in_features=100, out_features=10, bias=True)\n",
            "  (8): Softmax(dim=1)\n",
            ")\n"
          ]
        }
      ]
    },
    {
      "cell_type": "markdown",
      "source": [
        "## TASK 1.5 (0.2 marks)\n",
        "\n",
        "Use the sequential model’s `model.state_dict()[param_tensor].size()` to display all the model’s layers size."
      ],
      "metadata": {
        "id": "mQ-Y9G7ny9cb"
      }
    },
    {
      "cell_type": "code",
      "source": [
        "layer_sizes = {param_tensor: model.state_dict()[param_tensor].size() for param_tensor in model.state_dict()}\n",
        "layer_sizes"
      ],
      "metadata": {
        "id": "uHyABtoGzHHx",
        "colab": {
          "base_uri": "https://localhost:8080/"
        },
        "outputId": "fb899709-e3c3-4a27-aec6-cae99f12f71a"
      },
      "execution_count": 35,
      "outputs": [
        {
          "output_type": "execute_result",
          "data": {
            "text/plain": [
              "{'1.weight': torch.Size([300, 784]),\n",
              " '1.bias': torch.Size([300]),\n",
              " '3.weight': torch.Size([100, 300]),\n",
              " '3.bias': torch.Size([100]),\n",
              " '5.weight': torch.Size([100]),\n",
              " '5.bias': torch.Size([100]),\n",
              " '5.running_mean': torch.Size([100]),\n",
              " '5.running_var': torch.Size([100]),\n",
              " '5.num_batches_tracked': torch.Size([]),\n",
              " '7.weight': torch.Size([10, 100]),\n",
              " '7.bias': torch.Size([10])}"
            ]
          },
          "metadata": {},
          "execution_count": 35
        }
      ]
    },
    {
      "cell_type": "markdown",
      "source": [
        "## TASK 1.6 (1.2 mark)\n",
        "\n",
        "In this section, you will train the model via the following steps.\n",
        "\n",
        "- You need to call `torch.optim` to define the optimizer, using **\"ADADELTA\"** and set **\"lr\"** as 1. (0.6 marks)\n",
        "\n",
        "- You need to write a training process here:\n",
        "  1. The training epochs should be set as 10.\n",
        "  2. Put the model in train mode by using `model.train()`(vs eval mode). This matters for layers like BatchNorm or Dropout.\n",
        "  3. During the training, you need to reset all gradients to zero before calculating new ones, as by default, gradients are accumulated. This can be done using `optimizer.zero_grad()`.\n",
        "  4. Please use `F.cross_entropy()` to compute the loss function and perform backpropagation `backward()` on the loss.\n",
        "  5. Then updates model weights based on accumulated gradients and the optimizer algorithm by using `optimizer.step()`\n",
        "\n",
        "- You need to write a testing process to test and print the accuracy on the validation dataset during each training epoch. (0.6 marks)\n",
        "  1. Put the model in evaluation mode by using `model.eval()` (vs training mode). This will disable dropout/batchnorm layers.\n",
        "  2. Disables gradient calculation as we are only doing forward evaluation by using `torch.no_grad() `.\n",
        "  3. Iterate through validation data batches (valid_loader).\n",
        "  4. Run the data through the trained model to get predictions.\n",
        "  5. Preduct the class with the maximum predicted probability from output for each image. Count the number of correct predictions.\n",
        "  6. After the loop through all validation batches, displays the accuracy as percentage of validation set predictions that were correct.\n",
        "  "
      ],
      "metadata": {
        "id": "lPksvydLzOHn"
      }
    },
    {
      "cell_type": "code",
      "source": [
        "# your answer here\n",
        "optimizer = optim.Adadelta(model.parameters(), lr=1)\n",
        "\n",
        "for epoch in range(1, 11):\n",
        "    model.train()\n",
        "    for data, target in train_loader:\n",
        "        optimizer.zero_grad()  # Reset gradients\n",
        "        output = model(data)\n",
        "        loss = F.cross_entropy(output, target)  # Compute loss\n",
        "        loss.backward()  # Backpropagation\n",
        "        optimizer.step()  # Update weights\n",
        "\n",
        "# Test loop\n",
        "    model.eval()\n",
        "    correct = 0\n",
        "    with torch.no_grad():  # Disable gradient calculation\n",
        "        for data, target in val_loader:\n",
        "            output = model(data)\n",
        "            _, predicted = torch.max(output.data, 1)\n",
        "            correct += (predicted == target).sum().item()\n",
        "\n",
        "    accuracy = 100. * correct / len(val_loader.dataset)\n",
        "    print(f'Epoch {epoch}, Accuracy: {accuracy:.2f}%')"
      ],
      "metadata": {
        "id": "3YFbe8LUzcVO",
        "colab": {
          "base_uri": "https://localhost:8080/"
        },
        "outputId": "0e9ed10e-bfb4-4ff4-91d4-56b47d44d204"
      },
      "execution_count": 36,
      "outputs": [
        {
          "output_type": "stream",
          "name": "stdout",
          "text": [
            "Epoch 1, Accuracy: 77.42%\n",
            "Epoch 2, Accuracy: 79.16%\n",
            "Epoch 3, Accuracy: 81.32%\n",
            "Epoch 4, Accuracy: 85.10%\n",
            "Epoch 5, Accuracy: 85.44%\n",
            "Epoch 6, Accuracy: 84.20%\n",
            "Epoch 7, Accuracy: 85.56%\n",
            "Epoch 8, Accuracy: 85.28%\n",
            "Epoch 9, Accuracy: 85.46%\n",
            "Epoch 10, Accuracy: 86.74%\n"
          ]
        }
      ]
    },
    {
      "cell_type": "markdown",
      "source": [
        "## TASK 1.7 (0.6 marks)\n",
        "1. Calculate and print the testing accuracy. (0.1 mark)\n",
        "2. Predict the class names of the first three instances in the test set. (0.5 mark)"
      ],
      "metadata": {
        "id": "dNGyfVIvzftS"
      }
    },
    {
      "cell_type": "code",
      "source": [
        "#1\n",
        "model.eval()\n",
        "correct = 0\n",
        "total = 0\n",
        "with torch.no_grad():\n",
        "    for images, labels in test_loader:\n",
        "        outputs = model(images)\n",
        "        _, predicted = torch.max(outputs.data, 1)\n",
        "        total += labels.size(0)\n",
        "        correct += (predicted == labels).sum().item()\n",
        "\n",
        "accuracy = correct / total\n",
        "print('Testing Accuracy: {:.2f}%'.format(accuracy * 100))\n",
        "\n",
        "#2\n",
        "model.eval()\n",
        "with torch.no_grad():\n",
        "    for images, labels in test_loader:\n",
        "        outputs = model(images)\n",
        "        _, predicted = torch.max(outputs, 1)\n",
        "        for i in range(3):\n",
        "            print(f\"Image {i+1}: {class_name[predicted[i]]}\")\n",
        "        break  # Only print the first batch"
      ],
      "metadata": {
        "id": "-aHlfZPBzld_",
        "colab": {
          "base_uri": "https://localhost:8080/"
        },
        "outputId": "2b2e06f0-2418-464e-96d4-267ee3e09a1f"
      },
      "execution_count": 37,
      "outputs": [
        {
          "output_type": "stream",
          "name": "stdout",
          "text": [
            "Testing Accuracy: 85.88%\n",
            "Image 1: Ankle boot\n",
            "Image 2: Pullover\n",
            "Image 3: Trouser\n"
          ]
        }
      ]
    },
    {
      "cell_type": "markdown",
      "source": [
        "# Question 2: Training an Image Classifier using Convolutional Neural Network (4 marks)\n",
        "\n",
        "In this question, we will be utilising Pytorch to train a convolutional network on an image classification problem. We will utilise the coloured CIFAR-10 image dataset. The dataset has 60,000 images for 10 classes."
      ],
      "metadata": {
        "id": "Evvff6he0v1G"
      }
    },
    {
      "cell_type": "markdown",
      "source": [
        "## Data Loading"
      ],
      "metadata": {
        "id": "E2IrIiGw2Nzd"
      }
    },
    {
      "cell_type": "code",
      "source": [
        "transform = transforms.Compose([transforms.ToTensor()])\n",
        "\n",
        "trainset = torchvision.datasets.CIFAR10(root='./data', train=True,\n",
        "                                        download=True, transform=transform)\n",
        "\n",
        "testset = torchvision.datasets.CIFAR10(root='./data', train=False,\n",
        "                                       download=True, transform=transform)\n",
        "\n",
        "classes = ('plane', 'car', 'bird', 'cat',\n",
        "           'deer', 'dog', 'frog', 'horse', 'ship', 'truck')"
      ],
      "metadata": {
        "id": "-uNnq4BY2A2f",
        "colab": {
          "base_uri": "https://localhost:8080/"
        },
        "outputId": "2c0b94aa-6a39-4193-c86d-554cb5ef084c"
      },
      "execution_count": 38,
      "outputs": [
        {
          "output_type": "stream",
          "name": "stdout",
          "text": [
            "Downloading https://www.cs.toronto.edu/~kriz/cifar-10-python.tar.gz to ./data/cifar-10-python.tar.gz\n"
          ]
        },
        {
          "output_type": "stream",
          "name": "stderr",
          "text": [
            "100%|██████████| 170498071/170498071 [00:04<00:00, 42184041.27it/s]\n"
          ]
        },
        {
          "output_type": "stream",
          "name": "stdout",
          "text": [
            "Extracting ./data/cifar-10-python.tar.gz to ./data\n",
            "Files already downloaded and verified\n"
          ]
        }
      ]
    },
    {
      "cell_type": "markdown",
      "source": [
        "In CEFAR-10 dataset, every image is represented as a 3 x 32 x 32 array rather than a 1D array of size 3072. Please check the length of the training dataset and the shape of first training image and its data type, and output these values."
      ],
      "metadata": {
        "id": "t2mkI5WD2S-K"
      }
    },
    {
      "cell_type": "code",
      "source": [
        "# should return 50000 torch.Size([3, 32, 32]) torch.float32\n",
        "print(len(trainset),trainset[0][0].shape, trainset[0][0].dtype)"
      ],
      "metadata": {
        "id": "WF5zgSqk2W49",
        "colab": {
          "base_uri": "https://localhost:8080/"
        },
        "outputId": "08e12e3c-e02b-41fd-dd9c-263d52be15d2"
      },
      "execution_count": 39,
      "outputs": [
        {
          "output_type": "stream",
          "name": "stdout",
          "text": [
            "50000 torch.Size([3, 32, 32]) torch.float32\n"
          ]
        }
      ]
    },
    {
      "cell_type": "markdown",
      "source": [
        "## TASK 2.1 (0.3 marks)\n",
        "Please show the first 30 images in the train dataset using Matplotlib's imshow(), following a 5X6 layout (5 rows and 6 columns), and adding class name as the title for each image."
      ],
      "metadata": {
        "id": "300JlSkn3FIE"
      }
    },
    {
      "cell_type": "code",
      "source": [
        "rows = 5\n",
        "cols = 6\n",
        "\n",
        "# Create a figure and axis\n",
        "fig, axs = plt.subplots(rows, cols, figsize=(15, 12))\n",
        "\n",
        "# Loop through the first 30 images in the train dataset\n",
        "for i in range(rows * cols):\n",
        "    image, label = trainset[i]\n",
        "    image = np.transpose(image.numpy(), (1, 2, 0))  # Transpose dimensions for RGB images\n",
        "    ax = axs[i // cols, i % cols]\n",
        "    ax.imshow(image)\n",
        "    ax.set_title(classes[label])\n",
        "    ax.axis('off')\n",
        "\n",
        "plt.tight_layout()\n",
        "plt.show()"
      ],
      "metadata": {
        "id": "eKAM1ORq3JEq",
        "colab": {
          "base_uri": "https://localhost:8080/",
          "height": 630
        },
        "outputId": "58ee43f9-bffd-49a4-d666-1dae57533272"
      },
      "execution_count": 40,
      "outputs": [
        {
          "output_type": "display_data",
          "data": {
            "text/plain": [
              "<Figure size 1500x1200 with 30 Axes>"
            ],
            "image/png": "[encoded data removed]"
          },
          "metadata": {}
        }
      ]
    },
    {
      "cell_type": "markdown",
      "source": [
        "## TASK 2.2 (0.5 marks)\n",
        "Please note that the original dataset does not include a separate validation set. Therefore, it's crucial to partition the training set, `trainset`, into two subsets: a validation set, `val_dataset`, and a reduced training set, `train_dataset_new`. Specifically, the size of val_dataset should be 0.2 of train_dataset.\n",
        "\n",
        "After splitting the datasets, it's essential to encapsulate train_dataset_new, val_dataset, and test_dataset within DataLoader objects, specifically creating `trainloader`, `valloader`, and `testloader`, using `torch.utils.data.DataLoader`.\n",
        "\n",
        "Hint:\n",
        "- For trainloader, variables shuffle should be set as True. Variables batch_size for all three dataloader should be set as 128. The validation and testing data should **not** be shuffled.\n",
        "- The DataLoader class in PyTorch streamlines the process of batching and shuffling the data, making it easier and more efficient to feed the data into the neural network during training."
      ],
      "metadata": {
        "id": "juGLjwbY-uRE"
      }
    },
    {
      "cell_type": "code",
      "source": [
        "# partition train_dataset into val_dataset and train_dataset_new\n",
        "N = len(trainset)\n",
        "val_size = int(0.2*N)\n",
        "train_size = int(N*0.8)\n",
        "\n",
        "train_dataset_new, val_dataset = random_split(trainset, [train_size, val_size])\n",
        "\n",
        "# create trainloader, valloader, testloader\n",
        "batch_size = 128\n",
        "trainloader = DataLoader(train_dataset_new, batch_size=batch_size, shuffle=True)\n",
        "valloader = DataLoader(val_dataset, batch_size=batch_size, shuffle=False)\n",
        "testloader = DataLoader(testset, batch_size=batch_size, shuffle=False)\n",
        "\n",
        "\n",
        "\n"
      ],
      "metadata": {
        "id": "PnTCPDBd_pRb"
      },
      "execution_count": 41,
      "outputs": []
    },
    {
      "cell_type": "markdown",
      "source": [
        "## TASK 2.3 (1 mark)\n",
        "\n",
        "Please build a CNN model `baseline_CNN` with the following layers:\n",
        "\n",
        "1. a Convolutional Layer with\n",
        "*   3 input channels (RGB),\n",
        "*   16 output channels,\n",
        "*   3 x 3 kernel size,\n",
        "*   stride of 1,\n",
        "*   padding of 1\n",
        "\n",
        "2. a Max Pooling Layer with\n",
        "*   2 x 2 kernel size,\n",
        "*   stride of 2,\n",
        "*   padding of 0\n",
        "\n",
        "3. a Fully Connected Layer with\n",
        "*   input size of 16 x 16 x 16, which is calculated based on the output size of the previous Max Pooling layer after flattening,\n",
        "*   output size of 64\n",
        "\n",
        "4. an Output Layer with\n",
        "* input size of 64, corresponding to the previous Fully Connected Layer,\n",
        "* output size of 10, corresponding to the number of classes\n",
        "\n",
        "5. a ReLU Activation Function.\n",
        "\n",
        "The `forward` method in a PyTorch model defines the forward pass of the neural network. It describes how the input data flows through the layers of the network to produce an output. Define the `forward` method following the sequence in this image.\n",
        "\n",
        "Note:\n",
        "\n",
        "- Flatten the pooled feature map (after the pooling layer) into a size of 16 * 16 * 16 with the [view()](https://pytorch.org/docs/stable/generated/torch.Tensor.view.html#torch.Tensor.view) function.\n",
        "- Apply the activation function after the convolution layer.\n",
        "\n",
        "![test.webp](data:image/webp;base64,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)\n",
        "\n",
        "[Documentation](https://pytorch.org/docs/stable/nn.html)\n",
        "\n"
      ],
      "metadata": {
        "id": "jU-RBUPyBDmx"
      }
    },
    {
      "cell_type": "code",
      "source": [
        "class baseline_CNN(nn.Module):\n",
        "    def __init__(self):\n",
        "        super(baseline_CNN, self).__init__()\n",
        "        self.conv1 = nn.Conv2d(3, 16, kernel_size=3, stride=1, padding=1)\n",
        "        self.pool = nn.MaxPool2d(kernel_size=2, stride=2, padding=0)\n",
        "        self.fc1 = nn.Linear(16 * 16 * 16, 64)\n",
        "        self.fc2 = nn.Linear(64, 10)\n",
        "        self.relu = nn.ReLU()\n",
        "\n",
        "    def forward(self, x):\n",
        "        x = self.pool(self.relu(self.conv1(x)))\n",
        "        x = x.view(-1, 16 * 16 * 16)\n",
        "        x = self.relu(self.fc1(x))\n",
        "        x = self.fc2(x)\n",
        "        return x"
      ],
      "metadata": {
        "id": "eDhZc9U9BK4e"
      },
      "execution_count": 42,
      "outputs": []
    },
    {
      "cell_type": "markdown",
      "source": [
        "## TASK 2.4 (1 mark)\n",
        "\n",
        "In this section, you will train the model via the following steps.\n",
        "\n",
        "- You need to call `torch.optim` to define the optimizer. (Use **\"SGD\"** and set **\"lr\"** as 0.1)\n",
        "\n",
        "- You need to write a training process here:\n",
        "  The training epochs should be set as 10. Then follow the training steps provided in **Task 1.6**\n",
        "\n",
        "- You need to write a testing process to test and print the accuracy on the validation dataset during each training epoch. You can follow the testing steps provided in **Task 1.6**"
      ],
      "metadata": {
        "id": "vDOxzBGEBZpP"
      }
    },
    {
      "cell_type": "code",
      "source": [
        "# instantiate your model\n",
        "model = baseline_CNN()\n",
        "optimizer = optim.SGD(model.parameters(), lr=0.1)\n",
        "\n",
        "for epoch in range(1, 11):\n",
        "    model.train()\n",
        "    for data, target in trainloader:\n",
        "        optimizer.zero_grad()  # Reset gradients\n",
        "        output = model(data)\n",
        "        loss = F.cross_entropy(output, target)  # Compute loss\n",
        "        loss.backward()  # Backpropagation\n",
        "        optimizer.step()  # Update weights\n",
        "\n",
        "# Test loop\n",
        "    model.eval()\n",
        "    correct = 0\n",
        "    with torch.no_grad():  # Disable gradient calculation\n",
        "        for data, target in valloader:\n",
        "            output = model(data)\n",
        "            _, predicted = torch.max(output.data, 1)\n",
        "            correct += (predicted == target).sum().item()\n",
        "\n",
        "    accuracy = 100. * correct / len(valloader.dataset)\n",
        "    print(f'Epoch {epoch}, Accuracy: {accuracy:.2f}%')"
      ],
      "metadata": {
        "id": "GIk82wREBk-e",
        "colab": {
          "base_uri": "https://localhost:8080/"
        },
        "outputId": "6d6b98ff-b214-452d-a198-903c8af8af6b"
      },
      "execution_count": 43,
      "outputs": [
        {
          "output_type": "stream",
          "name": "stdout",
          "text": [
            "Epoch 1, Accuracy: 36.64%\n",
            "Epoch 2, Accuracy: 45.20%\n",
            "Epoch 3, Accuracy: 50.41%\n",
            "Epoch 4, Accuracy: 53.69%\n",
            "Epoch 5, Accuracy: 52.97%\n",
            "Epoch 6, Accuracy: 57.41%\n",
            "Epoch 7, Accuracy: 54.80%\n",
            "Epoch 8, Accuracy: 56.66%\n",
            "Epoch 9, Accuracy: 58.45%\n",
            "Epoch 10, Accuracy: 60.87%\n"
          ]
        }
      ]
    },
    {
      "cell_type": "markdown",
      "source": [
        "## TASK 2.5 (0.2 marks)\n",
        "Calculate and print the testing accuracy of your `baseline_CNN` model."
      ],
      "metadata": {
        "id": "zXgPG38LBt6-"
      }
    },
    {
      "cell_type": "code",
      "source": [
        "model.eval()\n",
        "correct = 0\n",
        "total = 0\n",
        "with torch.no_grad():\n",
        "    for images, labels in testloader:\n",
        "        outputs = model(images)\n",
        "        _, predicted = torch.max(outputs.data, 1)\n",
        "        total += labels.size(0)\n",
        "        correct += (predicted == labels).sum().item()\n",
        "\n",
        "accuracy = correct / total\n",
        "print('Testing Accuracy: {:.2f}%'.format(accuracy * 100))"
      ],
      "metadata": {
        "id": "OzKP9IapBs_R",
        "colab": {
          "base_uri": "https://localhost:8080/"
        },
        "outputId": "74dbbed2-d4cd-4fea-d8f7-a9da84a3d0fd"
      },
      "execution_count": 44,
      "outputs": [
        {
          "output_type": "stream",
          "name": "stdout",
          "text": [
            "Testing Accuracy: 60.83%\n"
          ]
        }
      ]
    },
    {
      "cell_type": "markdown",
      "source": [
        "## TASK 2.6 (1 mark)\n",
        "\n",
        "Try to vary the layers of your `baseline_CNN` model such as adding more fully-connected layers, adding dropout, as well as tuning the hyperparameters of the model and optimizer used to create an `improved_CNN` model, which should have a higher testing accuracy than your `baseline_CNN` model.\n",
        "\n",
        "Note: if the improvement in model performance is solely due to increasing the number of training epochs, no marks will be awarded for this question.\n",
        "\n",
        "Calculate and print the testing accuracy of your `improved_CNN` model."
      ],
      "metadata": {
        "id": "uaVuQlPnB6hT"
      }
    },
    {
      "cell_type": "code",
      "source": [
        "class improved_CNN(nn.Module):\n",
        "    def __init__(self):\n",
        "        super(improved_CNN, self).__init__()\n",
        "        self.conv1 = nn.Conv2d(3, 16, 3, stride=1, padding=1)\n",
        "        self.pool = nn.MaxPool2d(2, 2)\n",
        "        self.conv2 = nn.Conv2d(16, 32, 3, stride=1, padding=1)\n",
        "        self.fc1 = nn.Linear(32 * 8 * 8, 128)\n",
        "        self.fc2 = nn.Linear(128, 64)\n",
        "        self.fc3 = nn.Linear(64, 10)\n",
        "        self.dropout = nn.Dropout(0.25)\n",
        "        self.relu = nn.ReLU()\n",
        "\n",
        "    def forward(self, x):\n",
        "        x = self.pool(self.relu(self.conv1(x)))\n",
        "        x = self.pool(self.relu(self.conv2(x)))\n",
        "        x = x.view(-1, 32 * 8 * 8)  # Flatten the output for the fully connected layers\n",
        "        x = self.dropout(self.relu(self.fc1(x)))\n",
        "        x = self.dropout(self.relu(self.fc2(x)))\n",
        "        x = self.fc3(x)\n",
        "        return x\n"
      ],
      "metadata": {
        "id": "l2YWq0aqCrRD"
      },
      "execution_count": 45,
      "outputs": []
    },
    {
      "cell_type": "code",
      "source": [
        "# instantiate your model\n",
        "model = improved_CNN()\n",
        "optimizer = torch.optim.SGD(model.parameters(), lr=0.01, momentum=0.9)\n",
        "\n",
        "\n",
        "for epoch in range(1, 11):\n",
        "    model.train()\n",
        "    for data, target in trainloader:\n",
        "        optimizer.zero_grad()  # Reset gradients\n",
        "        output = model(data)\n",
        "        loss = F.cross_entropy(output, target)  # Compute loss\n",
        "        loss.backward()  # Backpropagation\n",
        "        optimizer.step()  # Update weights\n",
        "\n",
        "# Test loop\n",
        "    model.eval()\n",
        "    correct = 0\n",
        "    with torch.no_grad():  # Disable gradient calculation\n",
        "        for data, target in valloader:\n",
        "            output = model(data)\n",
        "            _, predicted = torch.max(output.data, 1)\n",
        "            correct += (predicted == target).sum().item()\n",
        "\n",
        "    accuracy = 100. * correct / len(valloader.dataset)\n",
        "    print(f'Epoch {epoch}, Accuracy: {accuracy:.2f}%')"
      ],
      "metadata": {
        "colab": {
          "base_uri": "https://localhost:8080/"
        },
        "id": "_EePQ2p8wg6o",
        "outputId": "b76ce054-92af-43a9-cd8c-85fb78f71109"
      },
      "execution_count": 46,
      "outputs": [
        {
          "output_type": "stream",
          "name": "stdout",
          "text": [
            "Epoch 1, Accuracy: 25.18%\n",
            "Epoch 2, Accuracy: 34.19%\n",
            "Epoch 3, Accuracy: 43.68%\n",
            "Epoch 4, Accuracy: 48.67%\n",
            "Epoch 5, Accuracy: 51.88%\n",
            "Epoch 6, Accuracy: 51.16%\n",
            "Epoch 7, Accuracy: 58.72%\n",
            "Epoch 8, Accuracy: 59.69%\n",
            "Epoch 9, Accuracy: 61.46%\n",
            "Epoch 10, Accuracy: 62.77%\n"
          ]
        }
      ]
    },
    {
      "cell_type": "code",
      "source": [
        "# test\n",
        "\n",
        "model.eval()\n",
        "correct = 0\n",
        "total = 0\n",
        "with torch.no_grad():\n",
        "    for images, labels in testloader:\n",
        "        outputs = model(images)\n",
        "        _, predicted = torch.max(outputs.data, 1)\n",
        "        total += labels.size(0)\n",
        "        correct += (predicted == labels).sum().item()\n",
        "\n",
        "accuracy = correct / total\n",
        "print('Testing Accuracy: {:.2f}%'.format(accuracy * 100))"
      ],
      "metadata": {
        "colab": {
          "base_uri": "https://localhost:8080/"
        },
        "id": "RRb1LTLkwsCl",
        "outputId": "8d9badce-4627-4e8d-83a2-43acd441394d"
      },
      "execution_count": 47,
      "outputs": [
        {
          "output_type": "stream",
          "name": "stdout",
          "text": [
            "Testing Accuracy: 62.53%\n"
          ]
        }
      ]
    },
    {
      "cell_type": "markdown",
      "metadata": {
        "id": "TzZZ_fV2xNYd"
      },
      "source": [
        "# Question 3: Ensemble learning for MNIST-784 data (2.5 Marks)"
      ]
    },
    {
      "cell_type": "markdown",
      "metadata": {
        "id": "k39mvjibHXgI",
        "pycharm": {
          "is_executing": true
        }
      },
      "source": [
        "## Data Loading\n",
        "\n",
        "The following code loads the MNIST data **mnist_784**, and splits it into a training set (50,000 instances), a validation set (10,000 instances), and a test set (10,000 instances)."
      ]
    },
    {
      "cell_type": "code",
      "execution_count": 48,
      "metadata": {
        "id": "3UXEEVdKHXgI",
        "colab": {
          "base_uri": "https://localhost:8080/"
        },
        "outputId": "b498e058-f5a4-426f-a8e6-4892336b8a85"
      },
      "outputs": [
        {
          "output_type": "stream",
          "name": "stderr",
          "text": [
            "/usr/local/lib/python3.10/dist-packages/sklearn/datasets/_openml.py:968: FutureWarning: The default value of `parser` will change from `'liac-arff'` to `'auto'` in 1.4. You can set `parser='auto'` to silence this warning. Therefore, an `ImportError` will be raised from 1.4 if the dataset is dense and pandas is not installed. Note that the pandas parser may return different data types. See the Notes Section in fetch_openml's API doc for details.\n",
            "  warn(\n"
          ]
        }
      ],
      "source": [
        "import numpy as np\n",
        "from sklearn.datasets import fetch_openml\n",
        "from sklearn.model_selection import train_test_split\n",
        "\n",
        "mnist = fetch_openml('mnist_784', version=1, as_frame=False)\n",
        "mnist.target = mnist.target.astype(np.uint8)\n",
        "\n",
        "X_train_val, X_test, y_train_val, y_test = train_test_split(\n",
        "    mnist.data, mnist.target, test_size=10000, random_state=42)\n",
        "X_train, X_val, y_train, y_val = train_test_split(\n",
        "    X_train_val, y_train_val, test_size=10000, random_state=42)"
      ]
    },
    {
      "cell_type": "markdown",
      "metadata": {
        "id": "qpcwZ3IVHXgJ"
      },
      "source": [
        "## TASK 3.1 (0.3 marks)\n",
        "Please create three classifiers using sklearn, including a Random Forest classifier, a SVM classifier, and a Multi-layer Perceptron classifier (two hidden layer with size of 128 and 64 ). To reduce the elapsed time for SVM, you may set 100 as the maximum number of iterations to be run.\n",
        "\n",
        "Hint:\n",
        "You can use `sklearn.ensemble` (RandomForestClassifier), `sklearn.svm` (LinearSVC) and `sklearn.neural_network` (MLPClassifier)."
      ]
    },
    {
      "cell_type": "code",
      "execution_count": 49,
      "metadata": {
        "id": "HMS39XWuHXgJ"
      },
      "outputs": [],
      "source": [
        "from sklearn.ensemble import RandomForestClassifier\n",
        "from sklearn.svm import SVC\n",
        "from sklearn.neural_network import MLPClassifier\n",
        "\n",
        "# Random Forest Classifier\n",
        "rf_classifier = RandomForestClassifier()\n",
        "\n",
        "# SVM Classifier\n",
        "svm_classifier = SVC(max_iter=100)\n",
        "\n",
        "# Multi-layer Perceptron Classifier\n",
        "mlp_classifier = MLPClassifier(hidden_layer_sizes=(128, 64))"
      ]
    },
    {
      "cell_type": "markdown",
      "metadata": {
        "id": "vSo1AofYHXgJ"
      },
      "source": [
        "## TASK 3.2 (0.2 marks)\n",
        "- Train each of classifiers created in Task 3.1 using the training sets and `fit` (0.1 marks);\n",
        "- Then report their accuracy on the validation sets using `score()` method (0.1 marks)."
      ]
    },
    {
      "cell_type": "code",
      "execution_count": 50,
      "metadata": {
        "id": "58gPXN8eHXgJ",
        "colab": {
          "base_uri": "https://localhost:8080/"
        },
        "outputId": "5afe435e-475f-4440-c5b8-70a7c5203b69"
      },
      "outputs": [
        {
          "output_type": "stream",
          "name": "stderr",
          "text": [
            "/usr/local/lib/python3.10/dist-packages/sklearn/svm/_base.py:299: ConvergenceWarning: Solver terminated early (max_iter=100).  Consider pre-processing your data with StandardScaler or MinMaxScaler.\n",
            "  warnings.warn(\n"
          ]
        },
        {
          "output_type": "stream",
          "name": "stdout",
          "text": [
            "Random Forest Classifier Validation Accuracy: 0.9701\n",
            "SVM Classifier Validation Accuracy: 0.9336\n",
            "MLP Classifier Validation Accuracy: 0.9733\n"
          ]
        }
      ],
      "source": [
        "rf_classifier.fit(X_train, y_train)\n",
        "svm_classifier.fit(X_train, y_train)\n",
        "mlp_classifier.fit(X_train, y_train)\n",
        "\n",
        "rf_val_score = rf_classifier.score(X_val, y_val)\n",
        "svm_val_score = svm_classifier.score(X_val, y_val)\n",
        "mlp_val_score = mlp_classifier.score(X_val, y_val)\n",
        "\n",
        "print(\"Random Forest Classifier Validation Accuracy:\", rf_val_score)\n",
        "print(\"SVM Classifier Validation Accuracy:\", svm_val_score)\n",
        "print(\"MLP Classifier Validation Accuracy:\", mlp_val_score)"
      ]
    },
    {
      "cell_type": "markdown",
      "metadata": {
        "id": "h21yn2G8HXgK"
      },
      "source": [
        "## Task 3.3 (0.5 marks)\n",
        "- Use `VotingClassifier` from sklearn.ensemble to combine the three classifers into an ensemble classifier (0.3 mark)\n",
        "- Then train the ensemble classifier on the training sets (0.1 mark)\n",
        "- Obtain the accuracy on the validation sets (0.1 mark)."
      ]
    },
    {
      "cell_type": "code",
      "execution_count": 51,
      "metadata": {
        "id": "gHraZ3mEHXgL",
        "colab": {
          "base_uri": "https://localhost:8080/"
        },
        "outputId": "ca078359-6906-4977-aba6-6d81cfb5cff2"
      },
      "outputs": [
        {
          "output_type": "stream",
          "name": "stderr",
          "text": [
            "/usr/local/lib/python3.10/dist-packages/sklearn/svm/_base.py:299: ConvergenceWarning: Solver terminated early (max_iter=100).  Consider pre-processing your data with StandardScaler or MinMaxScaler.\n",
            "  warnings.warn(\n"
          ]
        },
        {
          "output_type": "stream",
          "name": "stdout",
          "text": [
            "Ensemble classifier accuracy on validation sets: 0.9771\n"
          ]
        }
      ],
      "source": [
        "from sklearn.ensemble import VotingClassifier\n",
        "\n",
        "ensemble_classifier = VotingClassifier(\n",
        "    estimators=[\n",
        "        ('rf', rf_classifier),\n",
        "        ('svm', svm_classifier),\n",
        "        ('mlp', mlp_classifier)\n",
        "    ],\n",
        "    voting='hard'\n",
        ")\n",
        "\n",
        "ensemble_classifier.fit(X_train, y_train)\n",
        "\n",
        "accuracy = ensemble_classifier.score(X_val, y_val)\n",
        "print(f'Ensemble classifier accuracy on validation sets: {accuracy}')"
      ]
    },
    {
      "cell_type": "markdown",
      "metadata": {
        "id": "Pgkjd7mHHXgL"
      },
      "source": [
        "## TASK 3.4 (0.5 marks)\n",
        "Try the ensemble classifier (the one trained in task 3.3) and the three individual classifiers (those trained in task 3.2) on the test sets respectively, and compare their accuracy. Please explicitly answer the classifier that achieves the best performance among all them."
      ]
    },
    {
      "cell_type": "code",
      "execution_count": 52,
      "metadata": {
        "id": "PJAT50krHXgL",
        "colab": {
          "base_uri": "https://localhost:8080/"
        },
        "outputId": "0dad5925-df25-4049-ef36-661d6fd46b0b"
      },
      "outputs": [
        {
          "output_type": "stream",
          "name": "stdout",
          "text": [
            "Random Forest Test Accuracy: 0.9652\n",
            "SVM Test Accuracy: 0.9348\n",
            "MLP Test Accuracy: 0.9683\n",
            "Ensemble Classifier Test Accuracy: 0.9716\n",
            "The classifier that achieves the best performance is: Ensemble Classifier\n"
          ]
        }
      ],
      "source": [
        "# Evaluate the individual classifiers on the test set\n",
        "rf_test_score = rf_classifier.score(X_test, y_test)\n",
        "svm_test_score = svm_classifier.score(X_test, y_test)\n",
        "mlp_test_score = mlp_classifier.score(X_test, y_test)\n",
        "\n",
        "# Evaluate the ensemble classifier on the test set\n",
        "voting_test_score = ensemble_classifier.score(X_test, y_test)\n",
        "\n",
        "print(\"Random Forest Test Accuracy:\", rf_test_score)\n",
        "print(\"SVM Test Accuracy:\", svm_test_score)\n",
        "print(\"MLP Test Accuracy:\", mlp_test_score)\n",
        "print(\"Ensemble Classifier Test Accuracy:\", voting_test_score)\n",
        "\n",
        "best_score = max([rf_test_score, svm_test_score, mlp_test_score, voting_test_score])\n",
        "best_classifier = None\n",
        "if best_score == rf_test_score:\n",
        "    best_classifier = \"Random Forest\"\n",
        "elif best_score == svm_test_score:\n",
        "    best_classifier = \"SVM\"\n",
        "elif best_score == mlp_test_score:\n",
        "    best_classifier = \"MLP\"\n",
        "else:\n",
        "    best_classifier = \"Ensemble Classifier\"\n",
        "print(\"The classifier that achieves the best performance is:\", best_classifier)\n"
      ]
    },
    {
      "cell_type": "markdown",
      "source": [
        "The best classifier is Ensemble Classifier"
      ],
      "metadata": {
        "id": "OdISZcQuLQQ6"
      }
    },
    {
      "cell_type": "markdown",
      "metadata": {
        "id": "NLvN0aDjHXgM"
      },
      "source": [
        "## TASK 3.5 (0.5 marks)\n",
        "Create a new array from the validation set: the features are the predictions from the three individual classifiers, and the target variable is the image's class.\n",
        "\n",
        "Hint:\n",
        "- The predictions are from the individual classifiers (a Random Forest classifier, an SVM classifier, and a Multi-layer Perceptron classifier) trained in Task 3.2 on the validation set.\n",
        "- The dimension of the new array should be (10,000, 3) without class or (10,000, 4) with class."
      ]
    },
    {
      "cell_type": "code",
      "execution_count": 53,
      "metadata": {
        "id": "7AhD4TTUHXgM",
        "colab": {
          "base_uri": "https://localhost:8080/"
        },
        "outputId": "31dcd1db-ace2-42ce-d1b9-c6f85f72ba54"
      },
      "outputs": [
        {
          "output_type": "stream",
          "name": "stdout",
          "text": [
            "Shape of new array without class: (10000, 3)\n",
            "Shape of new array with class: (10000, 4)\n"
          ]
        }
      ],
      "source": [
        "rf_predictions = rf_classifier.predict(X_val)\n",
        "svm_predictions = svm_classifier.predict(X_val)\n",
        "mlp_predictions = mlp_classifier.predict(X_val)\n",
        "\n",
        "\n",
        "new_train_x = np.column_stack((rf_predictions, svm_predictions, mlp_predictions))\n",
        "\n",
        "new_train_with_y = np.column_stack((new_train_x, y_val))\n",
        "\n",
        "print(\"Shape of new array without class:\", new_train_x.shape)\n",
        "print(\"Shape of new array with class:\", new_train_with_y.shape)"
      ]
    },
    {
      "cell_type": "markdown",
      "metadata": {
        "id": "7Z9pX2X0HXgN"
      },
      "source": [
        "## TASK 3.6 (0.25 marks)\n",
        "Use **RandomForestClassifier** to train a classifier on the new training set generated in Task 3.5, usng `out-of-bag` samples to estimate the generalization score. Please explicitly show the score of the training set as the answer."
      ]
    },
    {
      "cell_type": "code",
      "execution_count": 54,
      "metadata": {
        "id": "Tt_grJDYHXgN",
        "colab": {
          "base_uri": "https://localhost:8080/"
        },
        "outputId": "63bd17dc-f8f7-41f9-91be-9744f16a76c6"
      },
      "outputs": [
        {
          "output_type": "stream",
          "name": "stdout",
          "text": [
            "Training set score: 0.9854\n"
          ]
        }
      ],
      "source": [
        "stacking_classifier = RandomForestClassifier(\n",
        "    n_estimators=100,\n",
        "    oob_score=True , #out-of-bag\n",
        "    random_state=42\n",
        "    )\n",
        "\n",
        "#train\n",
        "stacking_classifier.fit(new_train_x, y_val)\n",
        "\n",
        "training_score = stacking_classifier.score(new_train_x, y_val)\n",
        "print(\"Training set score:\", training_score)\n"
      ]
    },
    {
      "cell_type": "markdown",
      "metadata": {
        "id": "aPFQ9WOXHXgO"
      },
      "source": [
        "## TASK 3.7 (0.25 marks)\n",
        "Finally, try the stacking classifier (the one trained in Task 3.6) on the test sets. Compare its accuracy with those obtained in Task 3.4. Please conclude which one of the classifiers, among the Random Forest classifier, the SVM classifier, the Multi-layer Perceptron classifier, the ensemble, or the stacking ensemble, is the best?"
      ]
    },
    {
      "cell_type": "code",
      "execution_count": 56,
      "metadata": {
        "id": "PvQpYb4wHXgO",
        "colab": {
          "base_uri": "https://localhost:8080/"
        },
        "outputId": "d803ab62-963d-4c3b-9740-eacc480d14a5"
      },
      "outputs": [
        {
          "output_type": "stream",
          "name": "stdout",
          "text": [
            "Stacking Classifier Test Accuracy: 0.9701\n"
          ]
        }
      ],
      "source": [
        "rf_predictions_test = rf_classifier.predict(X_test)\n",
        "svm_predictions_test = svm_classifier.predict(X_test)\n",
        "mlp_predictions_test = mlp_classifier.predict(X_test)\n",
        "\n",
        "\n",
        "new_test_x = np.column_stack(\n",
        "    (rf_predictions_test,\n",
        "     svm_predictions_test,\n",
        "     mlp_predictions_test)\n",
        "    )\n",
        "\n",
        "stacking_test_score = stacking_classifier.score(new_test_x, y_test)\n",
        "print(\"Stacking Classifier Test Accuracy:\", stacking_test_score)"
      ]
    },
    {
      "cell_type": "code",
      "source": [
        "print(\"Random Forest Test Accuracy:\", rf_test_score)\n",
        "print(\"SVM Test Accuracy:\", svm_test_score)\n",
        "print(\"MLP Test Accuracy:\", mlp_test_score)\n",
        "print(\"Ensemble Classifier Test Accuracy:\", voting_test_score)\n",
        "\n",
        "best_score = max([rf_test_score, svm_test_score, mlp_test_score, voting_test_score, stacking_test_score])\n",
        "best_classifier = None\n",
        "if best_score == rf_test_score:\n",
        "    best_classifier = \"Random Forest\"\n",
        "elif best_score == svm_test_score:\n",
        "    best_classifier = \"SVM\"\n",
        "elif best_score == mlp_test_score:\n",
        "    best_classifier = \"MLP\"\n",
        "elif best_score == voting_test_score:\n",
        "    best_classifier = \"Ensemble Classifier\"\n",
        "else:\n",
        "    best_classifier = \"stacking ensemble\"\n",
        "\n",
        "print(\"The classifier that achieves the best performance is:\", best_classifier, best_score)\n"
      ],
      "metadata": {
        "colab": {
          "base_uri": "https://localhost:8080/"
        },
        "id": "5qOJUvX_clct",
        "outputId": "f81d08c7-8e5d-40ae-eb1f-327fc7e58b76"
      },
      "execution_count": 58,
      "outputs": [
        {
          "output_type": "stream",
          "name": "stdout",
          "text": [
            "Random Forest Test Accuracy: 0.9652\n",
            "SVM Test Accuracy: 0.9348\n",
            "MLP Test Accuracy: 0.9683\n",
            "Ensemble Classifier Test Accuracy: 0.9716\n",
            "The classifier that achieves the best performance is: Ensemble Classifier 0.9716\n"
          ]
        }
      ]
    },
    {
      "cell_type": "markdown",
      "metadata": {
        "id": "bFK9zSSmHXgP"
      },
      "source": [
        "#### Your conclusion: The classifier that achieves the best performance is the Ensemble Classifier at an accuracy score of 0.9716\n"
      ]
    }
  ]
}